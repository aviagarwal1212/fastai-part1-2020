{
 "cells": [
  {
   "cell_type": "markdown",
   "metadata": {
    "id": "xR2Lns7OROHE"
   },
   "source": [
    "## Setup"
   ]
  },
  {
   "cell_type": "code",
   "execution_count": null,
   "metadata": {
    "colab": {
     "base_uri": "https://localhost:8080/"
    },
    "executionInfo": {
     "elapsed": 37492,
     "status": "ok",
     "timestamp": 1621342438306,
     "user": {
      "displayName": "Avi Agarwal",
      "photoUrl": "https://lh3.googleusercontent.com/a-/AOh14GjFAKgbI5h1g-Qj2GC2l59vuI-tZnx_PnujUwu3Y6Q=s64",
      "userId": "13741970135431808210"
     },
     "user_tz": -330
    },
    "id": "svREv2mFQ6ck",
    "outputId": "42121515-a0e8-4435-c7c6-4b4ae3849bee"
   },
   "outputs": [
    {
     "name": "stdout",
     "output_type": "stream",
     "text": [
      "\u001b[K     |████████████████████████████████| 727kB 4.2MB/s \n",
      "\u001b[K     |████████████████████████████████| 1.2MB 33.5MB/s \n",
      "\u001b[K     |████████████████████████████████| 204kB 34.7MB/s \n",
      "\u001b[K     |████████████████████████████████| 51kB 6.0MB/s \n",
      "\u001b[K     |████████████████████████████████| 61kB 7.4MB/s \n",
      "\u001b[K     |████████████████████████████████| 51kB 6.4MB/s \n",
      "\u001b[?25hMounted at /content/gdrive\n"
     ]
    }
   ],
   "source": [
    "!pip install -Uqq fastbook\n",
    "import fastbook\n",
    "fastbook.setup_book()"
   ]
  },
  {
   "cell_type": "code",
   "execution_count": null,
   "metadata": {
    "id": "Xve3z8RlRVkg"
   },
   "outputs": [],
   "source": [
    "from fastbook import *"
   ]
  },
  {
   "cell_type": "markdown",
   "metadata": {
    "id": "OAmOrFvQRsco"
   },
   "source": [
    "## Importing data and defning DataLoaders object"
   ]
  },
  {
   "cell_type": "code",
   "execution_count": null,
   "metadata": {
    "colab": {
     "base_uri": "https://localhost:8080/",
     "height": 16
    },
    "executionInfo": {
     "elapsed": 62235,
     "status": "ok",
     "timestamp": 1621342463066,
     "user": {
      "displayName": "Avi Agarwal",
      "photoUrl": "https://lh3.googleusercontent.com/a-/AOh14GjFAKgbI5h1g-Qj2GC2l59vuI-tZnx_PnujUwu3Y6Q=s64",
      "userId": "13741970135431808210"
     },
     "user_tz": -330
    },
    "id": "Ma7sJlBPRrDn",
    "outputId": "f244582b-9069-44f1-a596-e01d5761b178"
   },
   "outputs": [
    {
     "data": {
      "text/html": [],
      "text/plain": [
       "<IPython.core.display.HTML object>"
      ]
     },
     "metadata": {
      "tags": []
     },
     "output_type": "display_data"
    }
   ],
   "source": [
    "path = untar_data(URLs.MNIST)"
   ]
  },
  {
   "cell_type": "code",
   "execution_count": null,
   "metadata": {
    "colab": {
     "base_uri": "https://localhost:8080/"
    },
    "executionInfo": {
     "elapsed": 62228,
     "status": "ok",
     "timestamp": 1621342463066,
     "user": {
      "displayName": "Avi Agarwal",
      "photoUrl": "https://lh3.googleusercontent.com/a-/AOh14GjFAKgbI5h1g-Qj2GC2l59vuI-tZnx_PnujUwu3Y6Q=s64",
      "userId": "13741970135431808210"
     },
     "user_tz": -330
    },
    "id": "Bd0uoP-yR08b",
    "outputId": "100b1d13-be01-49fa-c629-c2bb7681bd75"
   },
   "outputs": [
    {
     "data": {
      "text/plain": [
       "(#2) [Path('/root/.fastai/data/mnist_png/testing'),Path('/root/.fastai/data/mnist_png/training')]"
      ]
     },
     "execution_count": 6,
     "metadata": {
      "tags": []
     },
     "output_type": "execute_result"
    }
   ],
   "source": [
    "path.ls()"
   ]
  },
  {
   "cell_type": "code",
   "execution_count": null,
   "metadata": {
    "id": "yg_hwtEhTp4c"
   },
   "outputs": [],
   "source": [
    "images = DataBlock(\n",
    "    blocks = (ImageBlock(cls=PILImageBW), CategoryBlock),\n",
    "    get_items = get_image_files,\n",
    "    splitter = GrandparentSplitter(train_name='training', valid_name='testing'),\n",
    "    get_y = parent_label\n",
    ")"
   ]
  },
  {
   "cell_type": "code",
   "execution_count": null,
   "metadata": {
    "id": "xTQ85lIIUP0H"
   },
   "outputs": [],
   "source": [
    "dls = images.dataloaders(path)"
   ]
  },
  {
   "cell_type": "markdown",
   "metadata": {
    "id": "vmLmNzfyUhLO"
   },
   "source": [
    "## Defining the Neural Network"
   ]
  },
  {
   "cell_type": "code",
   "execution_count": null,
   "metadata": {
    "id": "1knSr8kHUbnC"
   },
   "outputs": [],
   "source": [
    "neural_network = nn.Sequential(\n",
    "    Flatten(), ## because we were unable to use view on the DataBlock to create a single rank tensor for each image\n",
    "    nn.Linear(28*28, 30),\n",
    "    nn.ReLU(),\n",
    "    nn.Linear(30,10)\n",
    ")"
   ]
  },
  {
   "cell_type": "markdown",
   "metadata": {
    "id": "9eApiMXIU-SM"
   },
   "source": [
    "## Defining the Loss Function"
   ]
  },
  {
   "cell_type": "code",
   "execution_count": null,
   "metadata": {
    "colab": {
     "base_uri": "https://localhost:8080/"
    },
    "executionInfo": {
     "elapsed": 80282,
     "status": "ok",
     "timestamp": 1621342481139,
     "user": {
      "displayName": "Avi Agarwal",
      "photoUrl": "https://lh3.googleusercontent.com/a-/AOh14GjFAKgbI5h1g-Qj2GC2l59vuI-tZnx_PnujUwu3Y6Q=s64",
      "userId": "13741970135431808210"
     },
     "user_tz": -330
    },
    "id": "eg1TJ0m7U3pC",
    "outputId": "14458862-5fc9-4d0c-e048-730a1b019ed4"
   },
   "outputs": [
    {
     "data": {
      "text/plain": [
       "CrossEntropyLoss()"
      ]
     },
     "execution_count": 10,
     "metadata": {
      "tags": []
     },
     "output_type": "execute_result"
    }
   ],
   "source": [
    "nn.CrossEntropyLoss()"
   ]
  },
  {
   "cell_type": "markdown",
   "metadata": {
    "id": "X09CadbHVkWj"
   },
   "source": [
    "## Defining the Optimizer"
   ]
  },
  {
   "cell_type": "code",
   "execution_count": null,
   "metadata": {
    "id": "mvS-Tt6qVCO8"
   },
   "outputs": [],
   "source": [
    "class Optim:\n",
    "    def __init__(self, params, lr):\n",
    "        self.params = list(params)\n",
    "        self.lr = lr\n",
    "    \n",
    "    def step(self):\n",
    "        for p in self.params:\n",
    "            p.data -= self.lr * p.grad\n",
    "\n",
    "    def zero_grad(self):\n",
    "        for p in self.params:\n",
    "            p.grad = None"
   ]
  },
  {
   "cell_type": "markdown",
   "metadata": {
    "id": "Cj2UpeRXVpen"
   },
   "source": [
    "## Defining Learner"
   ]
  },
  {
   "cell_type": "code",
   "execution_count": null,
   "metadata": {
    "id": "QgFg8QuaVnjX"
   },
   "outputs": [],
   "source": [
    "class Learner:\n",
    "    def __init__(self, dataloaders, model, opt_class, loss_function, learning_rate=0.1):\n",
    "        self.train_dl = dataloaders[0]\n",
    "        self.valid_dl = dataloaders[1]\n",
    "        self.model = model\n",
    "        self.opt_function = opt_class(self.model.parameters(), learning_rate)\n",
    "        self.loss_function = loss_function\n",
    "\n",
    "    def train_epoch(self):\n",
    "        for xb, yb in self.train_dl:\n",
    "            predictions = self.model(xb)\n",
    "            loss = self.loss_function(predictions, yb)\n",
    "            loss.backward()\n",
    "            self.opt_function.step()\n",
    "            self.opt_function.zero_grad()\n",
    "    \n",
    "    def batch_accuracy(self, predictions, yb):\n",
    "        probabilities = predictions.softmax(1)\n",
    "        predicted = probabilities.argmax(1)\n",
    "        correct = predicted == yb\n",
    "        return correct.float().mean()\n",
    "    \n",
    "    def validate_epoch(self):\n",
    "        accuracy = [self.batch_accuracy(self.model(xb), yb) for xb, yb in self.valid_dl]\n",
    "        return round(torch.stack(accuracy).mean().item(),4)\n",
    "\n",
    "    def fit(self, n):\n",
    "        for i in range(n):\n",
    "            self.train_epoch()\n",
    "            print(self.validate_epoch())"
   ]
  },
  {
   "cell_type": "markdown",
   "metadata": {
    "id": "h-e7XwMZWDWK"
   },
   "source": [
    "## Putting it all together"
   ]
  },
  {
   "cell_type": "code",
   "execution_count": null,
   "metadata": {
    "id": "zkQi6VGSWCXL"
   },
   "outputs": [],
   "source": [
    "lr = 0.1\n",
    "learn = Learner(dls, neural_network.to('cuda'), Optim, nn.CrossEntropyLoss(), lr)"
   ]
  },
  {
   "cell_type": "code",
   "execution_count": null,
   "metadata": {
    "colab": {
     "background_save": true,
     "base_uri": "https://localhost:8080/"
    },
    "id": "bHC0VHesWTZT",
    "outputId": "c5fb1a63-fd12-435f-cb21-b0144b486fef"
   },
   "outputs": [
    {
     "name": "stdout",
     "output_type": "stream",
     "text": [
      "0.9198\n",
      "0.9352\n",
      "0.9447\n",
      "0.9505\n",
      "0.952\n",
      "0.9568\n",
      "0.9592\n",
      "0.961\n",
      "0.962\n",
      "0.9635\n"
     ]
    }
   ],
   "source": [
    "learn.fit(10)"
   ]
  },
  {
   "cell_type": "code",
   "execution_count": null,
   "metadata": {
    "id": "PcNAFx_GjFHU"
   },
   "outputs": [],
   "source": []
  }
 ],
 "metadata": {
  "accelerator": "GPU",
  "colab": {
   "authorship_tag": "ABX9TyP9hvyNVMACICtOtHhgjXXp",
   "collapsed_sections": [],
   "name": "4-FR2-full-mnist.ipynb",
   "provenance": []
  },
  "kernelspec": {
   "display_name": "Python 3",
   "language": "python",
   "name": "python3"
  },
  "language_info": {
   "codemirror_mode": {
    "name": "ipython",
    "version": 3
   },
   "file_extension": ".py",
   "mimetype": "text/x-python",
   "name": "python",
   "nbconvert_exporter": "python",
   "pygments_lexer": "ipython3",
   "version": "3.8.5"
  }
 },
 "nbformat": 4,
 "nbformat_minor": 1
}
